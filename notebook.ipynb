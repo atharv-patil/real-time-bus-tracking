{
 "cells": [
  {
   "attachments": {},
   "cell_type": "markdown",
   "metadata": {},
   "source": [
    "# Real-time Bus Tracking Visualization "
   ]
  },
  {
   "cell_type": "code",
   "execution_count": 38,
   "metadata": {},
   "outputs": [],
   "source": [
    "# !pip install --upgrade gtfs-realtime-bindings\n",
    "# !pip install json\n",
    "# !pip install folium\n",
    "# !pip install geopy\n",
    "# !pip install selenium\n",
    "# !pip install html2image"
   ]
  },
  {
   "cell_type": "code",
   "execution_count": 1,
   "metadata": {},
   "outputs": [],
   "source": [
    "from google.transit import gtfs_realtime_pb2\n",
    "import requests\n",
    "import folium\n",
    "from geopy.geocoders import Nominatim\n",
    "import json\n",
    "import time\n",
    "import datetime\n",
    "import os\n",
    "from html2image import Html2Image\n",
    "import cv2"
   ]
  },
  {
   "attachments": {},
   "cell_type": "markdown",
   "metadata": {},
   "source": [
    "The provided code is a Python function `get_map(time)` that retrieves real-time bus data using the Open Transit Data API and visualizes it on a map. Here's a summary:\n",
    "\n",
    "1. The code fetches the real-time bus data from the API and converts it into a JSON string.\n",
    "2. Latitude and longitude coordinates of the buses are extracted from the JSON data and stored in a list.\n",
    "3. Using the Folium library, a map centered around New Delhi is created, and small red circle markers are added to represent the bus locations.\n",
    "4. The resulting map is saved as an HTML file, with the filename based on the provided `time` parameter (this is only for make the file unique and also storing the time for future references).\n",
    "\n",
    "This code provides a basic framework for visualizing real-time bus tracking and can be further customized and expanded based on your specific needs and preferences."
   ]
  },
  {
   "cell_type": "code",
   "execution_count": 3,
   "metadata": {},
   "outputs": [],
   "source": [
    "def get_map(time):\n",
    "  feed = gtfs_realtime_pb2.FeedMessage()\n",
    "  k = \"https://opendata.iiitd.edu.in//api//realtime//VehiclePositions.pb?key={your key here}\"\n",
    "  response = requests.get(k)\n",
    "  feed.ParseFromString(response.content)\n",
    "  from google.protobuf.json_format import MessageToJson\n",
    "  json_string = MessageToJson(feed)\n",
    "  d = eval(json_string)\n",
    "  l = []\n",
    "  for i in d[\"entity\"]:\n",
    "    l.append([i[\"vehicle\"][\"position\"][\"latitude\"],i[\"vehicle\"][\"position\"][\"longitude\"]])\n",
    "  geolocator = Nominatim(user_agent=\"location_details\")\n",
    "  location = geolocator.geocode(\"New Delhi\")\n",
    "  latitude = location.latitude\n",
    "  longitude = location.longitude\n",
    "\n",
    "  # Create a map centered around the city\n",
    "  m = folium.Map(location=[latitude, longitude], zoom_start=10)\n",
    "\n",
    "\n",
    "  map_new = folium.Map(location=[location.latitude, location.longitude], zoom_start=10.5, width=1920, height=1080)\n",
    "\n",
    "  for i, j in l:\n",
    "      folium.CircleMarker(location=[i, j],\n",
    "                          radius=0.01,\n",
    "                          color='red',\n",
    "                          fill=True,\n",
    "                          fill_color='red',\n",
    "                          fill_opacity=1).add_to(map_new)\n",
    "\n",
    "  map_new.save('htmlfiles\\\\'+'map'+str(time)+'.html')\n"
   ]
  },
  {
   "cell_type": "code",
   "execution_count": 5,
   "metadata": {},
   "outputs": [],
   "source": [
    "while True:\n",
    "    try:\n",
    "        get_map(time.time())\n",
    "    except:\n",
    "        pass\n",
    "    time.sleep(30)"
   ]
  },
  {
   "attachments": {},
   "cell_type": "markdown",
   "metadata": {},
   "source": [
    "### This code is to convert the html file to a png file, it basically takes a screenshot of that html page, I was not able to find any better solution for this."
   ]
  },
  {
   "cell_type": "code",
   "execution_count": 14,
   "metadata": {},
   "outputs": [],
   "source": [
    "hti = Html2Image()\n",
    "path = \"html files path\"\n",
    "\n",
    "cnt = 1\n",
    "for i in os.listdir(path):\n",
    "    new = os.path.join(path, i)\n",
    "    f = open(new, \"r\")\n",
    "    html_str = f.read()\n",
    "    hti.screenshot(html_str=html_str, save_as=\"time_\"+str(cnt)+\".png\")\n",
    "    cnt += 1\n",
    "    f.close()\n"
   ]
  },
  {
   "attachments": {},
   "cell_type": "markdown",
   "metadata": {},
   "source": [
    "### This code is used to make the video using the images where each frame represents a image"
   ]
  },
  {
   "cell_type": "code",
   "execution_count": null,
   "metadata": {},
   "outputs": [],
   "source": [
    "image_directory = 'images directory path'\n",
    "image_files = [f for f in os.listdir(image_directory) if os.path.isfile(os.path.join(image_directory, f))]\n",
    "\n",
    "image_files.sort()\n",
    "width, height = 1920, 1080\n",
    "fps = 28\n",
    "video_writer = cv2.VideoWriter('output_video.mp4', cv2.VideoWriter_fourcc(*'mp4v'), fps, (width, height))\n",
    "for image_file in image_files:\n",
    "    image_path = os.path.join(image_directory, image_file)\n",
    "    image = cv2.imread(image_path)\n",
    "    image = cv2.resize(image, (width, height))\n",
    "    video_writer.write(image)\n",
    "video_writer.release()"
   ]
  },
  {
   "cell_type": "code",
   "execution_count": 6,
   "metadata": {},
   "outputs": [],
   "source": []
  },
  {
   "cell_type": "code",
   "execution_count": null,
   "metadata": {},
   "outputs": [],
   "source": []
  },
  {
   "cell_type": "code",
   "execution_count": null,
   "metadata": {},
   "outputs": [],
   "source": []
  },
  {
   "cell_type": "code",
   "execution_count": null,
   "metadata": {},
   "outputs": [],
   "source": []
  },
  {
   "cell_type": "code",
   "execution_count": null,
   "metadata": {},
   "outputs": [],
   "source": []
  },
  {
   "cell_type": "code",
   "execution_count": null,
   "metadata": {},
   "outputs": [],
   "source": []
  },
  {
   "cell_type": "code",
   "execution_count": null,
   "metadata": {},
   "outputs": [],
   "source": []
  },
  {
   "cell_type": "code",
   "execution_count": null,
   "metadata": {},
   "outputs": [],
   "source": []
  },
  {
   "cell_type": "code",
   "execution_count": null,
   "metadata": {},
   "outputs": [],
   "source": []
  },
  {
   "cell_type": "code",
   "execution_count": null,
   "metadata": {},
   "outputs": [],
   "source": []
  },
  {
   "cell_type": "code",
   "execution_count": null,
   "metadata": {},
   "outputs": [],
   "source": []
  },
  {
   "cell_type": "code",
   "execution_count": null,
   "metadata": {},
   "outputs": [],
   "source": []
  },
  {
   "cell_type": "code",
   "execution_count": null,
   "metadata": {},
   "outputs": [],
   "source": []
  },
  {
   "cell_type": "code",
   "execution_count": null,
   "metadata": {},
   "outputs": [],
   "source": []
  },
  {
   "cell_type": "code",
   "execution_count": null,
   "metadata": {},
   "outputs": [],
   "source": []
  },
  {
   "cell_type": "code",
   "execution_count": null,
   "metadata": {},
   "outputs": [],
   "source": []
  },
  {
   "cell_type": "code",
   "execution_count": null,
   "metadata": {},
   "outputs": [],
   "source": []
  }
 ],
 "metadata": {
  "kernelspec": {
   "display_name": "Python 3",
   "language": "python",
   "name": "python3"
  },
  "language_info": {
   "codemirror_mode": {
    "name": "ipython",
    "version": 3
   },
   "file_extension": ".py",
   "mimetype": "text/x-python",
   "name": "python",
   "nbconvert_exporter": "python",
   "pygments_lexer": "ipython3",
   "version": "3.10.7"
  },
  "orig_nbformat": 4
 },
 "nbformat": 4,
 "nbformat_minor": 2
}
